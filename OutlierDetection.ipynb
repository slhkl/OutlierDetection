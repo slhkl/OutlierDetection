{
  "nbformat": 4,
  "nbformat_minor": 0,
  "metadata": {
    "colab": {
      "provenance": []
    },
    "kernelspec": {
      "name": "python3",
      "display_name": "Python 3"
    },
    "language_info": {
      "name": "python"
    }
  },
  "cells": [
    {
      "cell_type": "code",
      "execution_count": 1,
      "metadata": {
        "id": "WzI9pi2NbrsK"
      },
      "outputs": [],
      "source": [
        "import numpy as np\n",
        "from sklearn.cluster import DBSCAN\n",
        "import matplotlib.pyplot as plt"
      ]
    },
    {
      "cell_type": "code",
      "source": [
        "def detect_outliers_dbscan(X, eps, min_samples):\n",
        "    dbscan = DBSCAN(eps=eps, min_samples=min_samples)\n",
        "    dbscan.fit(X)\n",
        "    labels = dbscan.labels_\n",
        "    outliers_indices = np.where(labels == -1)[0]\n",
        "    return outliers_indices"
      ],
      "metadata": {
        "id": "myxfNfCrbvOi"
      },
      "execution_count": 2,
      "outputs": []
    },
    {
      "cell_type": "code",
      "source": [
        "def detect_outliers_boxplot(X):\n",
        "    Q1 = np.percentile(X, 25)\n",
        "    Q3 = np.percentile(X, 75)\n",
        "    IQR = Q3 - Q1\n",
        "    lower_bound = Q1 - 1.5 * IQR\n",
        "    upper_bound = Q3 + 1.5 * IQR\n",
        "    outliers_indices = np.where((X < lower_bound) | (X > upper_bound))[0]\n",
        "    return outliers_indices"
      ],
      "metadata": {
        "id": "jYYaAF7DbxIY"
      },
      "execution_count": 3,
      "outputs": []
    },
    {
      "cell_type": "code",
      "source": [
        "# Örnek veri kümesi oluşturalım\n",
        "np.random.seed(0)\n",
        "X = np.random.normal(loc=0, scale=1, size=100).reshape(-1, 1)\n",
        "X"
      ],
      "metadata": {
        "colab": {
          "base_uri": "https://localhost:8080/"
        },
        "id": "5XBbjGxobzRF",
        "outputId": "5ebbb42f-803a-48d5-d7bb-71a680a4c1c2"
      },
      "execution_count": 4,
      "outputs": [
        {
          "output_type": "execute_result",
          "data": {
            "text/plain": [
              "array([[ 1.76405235],\n",
              "       [ 0.40015721],\n",
              "       [ 0.97873798],\n",
              "       [ 2.2408932 ],\n",
              "       [ 1.86755799],\n",
              "       [-0.97727788],\n",
              "       [ 0.95008842],\n",
              "       [-0.15135721],\n",
              "       [-0.10321885],\n",
              "       [ 0.4105985 ],\n",
              "       [ 0.14404357],\n",
              "       [ 1.45427351],\n",
              "       [ 0.76103773],\n",
              "       [ 0.12167502],\n",
              "       [ 0.44386323],\n",
              "       [ 0.33367433],\n",
              "       [ 1.49407907],\n",
              "       [-0.20515826],\n",
              "       [ 0.3130677 ],\n",
              "       [-0.85409574],\n",
              "       [-2.55298982],\n",
              "       [ 0.6536186 ],\n",
              "       [ 0.8644362 ],\n",
              "       [-0.74216502],\n",
              "       [ 2.26975462],\n",
              "       [-1.45436567],\n",
              "       [ 0.04575852],\n",
              "       [-0.18718385],\n",
              "       [ 1.53277921],\n",
              "       [ 1.46935877],\n",
              "       [ 0.15494743],\n",
              "       [ 0.37816252],\n",
              "       [-0.88778575],\n",
              "       [-1.98079647],\n",
              "       [-0.34791215],\n",
              "       [ 0.15634897],\n",
              "       [ 1.23029068],\n",
              "       [ 1.20237985],\n",
              "       [-0.38732682],\n",
              "       [-0.30230275],\n",
              "       [-1.04855297],\n",
              "       [-1.42001794],\n",
              "       [-1.70627019],\n",
              "       [ 1.9507754 ],\n",
              "       [-0.50965218],\n",
              "       [-0.4380743 ],\n",
              "       [-1.25279536],\n",
              "       [ 0.77749036],\n",
              "       [-1.61389785],\n",
              "       [-0.21274028],\n",
              "       [-0.89546656],\n",
              "       [ 0.3869025 ],\n",
              "       [-0.51080514],\n",
              "       [-1.18063218],\n",
              "       [-0.02818223],\n",
              "       [ 0.42833187],\n",
              "       [ 0.06651722],\n",
              "       [ 0.3024719 ],\n",
              "       [-0.63432209],\n",
              "       [-0.36274117],\n",
              "       [-0.67246045],\n",
              "       [-0.35955316],\n",
              "       [-0.81314628],\n",
              "       [-1.7262826 ],\n",
              "       [ 0.17742614],\n",
              "       [-0.40178094],\n",
              "       [-1.63019835],\n",
              "       [ 0.46278226],\n",
              "       [-0.90729836],\n",
              "       [ 0.0519454 ],\n",
              "       [ 0.72909056],\n",
              "       [ 0.12898291],\n",
              "       [ 1.13940068],\n",
              "       [-1.23482582],\n",
              "       [ 0.40234164],\n",
              "       [-0.68481009],\n",
              "       [-0.87079715],\n",
              "       [-0.57884966],\n",
              "       [-0.31155253],\n",
              "       [ 0.05616534],\n",
              "       [-1.16514984],\n",
              "       [ 0.90082649],\n",
              "       [ 0.46566244],\n",
              "       [-1.53624369],\n",
              "       [ 1.48825219],\n",
              "       [ 1.89588918],\n",
              "       [ 1.17877957],\n",
              "       [-0.17992484],\n",
              "       [-1.07075262],\n",
              "       [ 1.05445173],\n",
              "       [-0.40317695],\n",
              "       [ 1.22244507],\n",
              "       [ 0.20827498],\n",
              "       [ 0.97663904],\n",
              "       [ 0.3563664 ],\n",
              "       [ 0.70657317],\n",
              "       [ 0.01050002],\n",
              "       [ 1.78587049],\n",
              "       [ 0.12691209],\n",
              "       [ 0.40198936]])"
            ]
          },
          "metadata": {},
          "execution_count": 4
        }
      ]
    },
    {
      "cell_type": "code",
      "source": [
        "# Karışık veri seti oluşturma\n",
        "X = np.concatenate((X, np.random.uniform(low=-10, high=10, size=(20, 1))))\n",
        "X"
      ],
      "metadata": {
        "colab": {
          "base_uri": "https://localhost:8080/"
        },
        "id": "YGVHA8UBb2sm",
        "outputId": "dfa90825-505f-47a2-c42c-7854d00f0098"
      },
      "execution_count": 5,
      "outputs": [
        {
          "output_type": "execute_result",
          "data": {
            "text/plain": [
              "array([[ 1.76405235],\n",
              "       [ 0.40015721],\n",
              "       [ 0.97873798],\n",
              "       [ 2.2408932 ],\n",
              "       [ 1.86755799],\n",
              "       [-0.97727788],\n",
              "       [ 0.95008842],\n",
              "       [-0.15135721],\n",
              "       [-0.10321885],\n",
              "       [ 0.4105985 ],\n",
              "       [ 0.14404357],\n",
              "       [ 1.45427351],\n",
              "       [ 0.76103773],\n",
              "       [ 0.12167502],\n",
              "       [ 0.44386323],\n",
              "       [ 0.33367433],\n",
              "       [ 1.49407907],\n",
              "       [-0.20515826],\n",
              "       [ 0.3130677 ],\n",
              "       [-0.85409574],\n",
              "       [-2.55298982],\n",
              "       [ 0.6536186 ],\n",
              "       [ 0.8644362 ],\n",
              "       [-0.74216502],\n",
              "       [ 2.26975462],\n",
              "       [-1.45436567],\n",
              "       [ 0.04575852],\n",
              "       [-0.18718385],\n",
              "       [ 1.53277921],\n",
              "       [ 1.46935877],\n",
              "       [ 0.15494743],\n",
              "       [ 0.37816252],\n",
              "       [-0.88778575],\n",
              "       [-1.98079647],\n",
              "       [-0.34791215],\n",
              "       [ 0.15634897],\n",
              "       [ 1.23029068],\n",
              "       [ 1.20237985],\n",
              "       [-0.38732682],\n",
              "       [-0.30230275],\n",
              "       [-1.04855297],\n",
              "       [-1.42001794],\n",
              "       [-1.70627019],\n",
              "       [ 1.9507754 ],\n",
              "       [-0.50965218],\n",
              "       [-0.4380743 ],\n",
              "       [-1.25279536],\n",
              "       [ 0.77749036],\n",
              "       [-1.61389785],\n",
              "       [-0.21274028],\n",
              "       [-0.89546656],\n",
              "       [ 0.3869025 ],\n",
              "       [-0.51080514],\n",
              "       [-1.18063218],\n",
              "       [-0.02818223],\n",
              "       [ 0.42833187],\n",
              "       [ 0.06651722],\n",
              "       [ 0.3024719 ],\n",
              "       [-0.63432209],\n",
              "       [-0.36274117],\n",
              "       [-0.67246045],\n",
              "       [-0.35955316],\n",
              "       [-0.81314628],\n",
              "       [-1.7262826 ],\n",
              "       [ 0.17742614],\n",
              "       [-0.40178094],\n",
              "       [-1.63019835],\n",
              "       [ 0.46278226],\n",
              "       [-0.90729836],\n",
              "       [ 0.0519454 ],\n",
              "       [ 0.72909056],\n",
              "       [ 0.12898291],\n",
              "       [ 1.13940068],\n",
              "       [-1.23482582],\n",
              "       [ 0.40234164],\n",
              "       [-0.68481009],\n",
              "       [-0.87079715],\n",
              "       [-0.57884966],\n",
              "       [-0.31155253],\n",
              "       [ 0.05616534],\n",
              "       [-1.16514984],\n",
              "       [ 0.90082649],\n",
              "       [ 0.46566244],\n",
              "       [-1.53624369],\n",
              "       [ 1.48825219],\n",
              "       [ 1.89588918],\n",
              "       [ 1.17877957],\n",
              "       [-0.17992484],\n",
              "       [-1.07075262],\n",
              "       [ 1.05445173],\n",
              "       [-0.40317695],\n",
              "       [ 1.22244507],\n",
              "       [ 0.20827498],\n",
              "       [ 0.97663904],\n",
              "       [ 0.3563664 ],\n",
              "       [ 0.70657317],\n",
              "       [ 0.01050002],\n",
              "       [ 1.78587049],\n",
              "       [ 0.12691209],\n",
              "       [ 0.40198936],\n",
              "       [-1.52289903],\n",
              "       [ 2.12786428],\n",
              "       [-9.61613603],\n",
              "       [-3.96850367],\n",
              "       [ 3.20347075],\n",
              "       [-4.19844786],\n",
              "       [ 2.36030858],\n",
              "       [-1.42462598],\n",
              "       [-7.29051872],\n",
              "       [-4.03435348],\n",
              "       [ 1.39929821],\n",
              "       [ 1.81745522],\n",
              "       [ 1.48650498],\n",
              "       [ 3.0640164 ],\n",
              "       [ 3.0420654 ],\n",
              "       [-1.37163129],\n",
              "       [ 7.93093192],\n",
              "       [-2.6487626 ],\n",
              "       [-1.28270149],\n",
              "       [ 7.8384671 ]])"
            ]
          },
          "metadata": {},
          "execution_count": 5
        }
      ]
    },
    {
      "cell_type": "code",
      "source": [
        "# İşlem yapılmadan önce veri setinin özelliklerini hesaplayalım\n",
        "mean_before = np.mean(X)\n",
        "std_before = np.std(X)\n",
        "median_before = np.median(X)\n",
        "variance_before = np.var(X)\n",
        "\n",
        "print(\"Ortalama:\", mean_before)\n",
        "print(\"Standart Sapma:\", std_before)\n",
        "print(\"Medyan:\", median_before)\n",
        "print(\"Varyans:\", variance_before)"
      ],
      "metadata": {
        "colab": {
          "base_uri": "https://localhost:8080/"
        },
        "id": "FC8Rtdrhb4ab",
        "outputId": "7f7fbd81-38da-48dc-ce49-72f45993e48c"
      },
      "execution_count": 7,
      "outputs": [
        {
          "output_type": "stream",
          "name": "stdout",
          "text": [
            "Ortalama: 0.02410503540678357\n",
            "Standart Sapma: 2.0059315248057206\n",
            "Medyan: 0.09409611943799814\n",
            "Varyans: 4.023761282209404\n"
          ]
        }
      ]
    },
    {
      "cell_type": "code",
      "source": [
        "# DBSCAN kullanarak aykırı değerleri tespit edelim\n",
        "outliers_dbscan = detect_outliers_dbscan(X, eps=0.5, min_samples=5)\n",
        "outliers_dbscan"
      ],
      "metadata": {
        "colab": {
          "base_uri": "https://localhost:8080/"
        },
        "id": "mIsymupjcK7l",
        "outputId": "853dfc74-58b5-4574-a50e-93af4ec6108e"
      },
      "execution_count": 8,
      "outputs": [
        {
          "output_type": "execute_result",
          "data": {
            "text/plain": [
              "array([ 20, 102, 103, 104, 105, 108, 109, 113, 114, 116, 117, 119])"
            ]
          },
          "metadata": {},
          "execution_count": 8
        }
      ]
    },
    {
      "cell_type": "code",
      "source": [
        "# Boxplot kullanarak aykırı değerleri tespit edelim\n",
        "outliers_boxplot = detect_outliers_boxplot(X)\n",
        "outliers_boxplot"
      ],
      "metadata": {
        "colab": {
          "base_uri": "https://localhost:8080/"
        },
        "id": "-i3ipUnLcP7H",
        "outputId": "dc34f0d5-eefe-477a-e6c5-8a1b11379fd0"
      },
      "execution_count": 9,
      "outputs": [
        {
          "output_type": "execute_result",
          "data": {
            "text/plain": [
              "array([102, 103, 105, 108, 109, 116, 119])"
            ]
          },
          "metadata": {},
          "execution_count": 9
        }
      ]
    },
    {
      "cell_type": "code",
      "source": [
        "# Boxplot çizimi\n",
        "plt.figure(figsize=(6, 4))\n",
        "plt.boxplot(X)\n",
        "plt.title('Boxplot ile Aykırı Değerlerin Belirlenmesi')\n",
        "plt.ylabel('Değerler')\n",
        "plt.show()"
      ],
      "metadata": {
        "colab": {
          "base_uri": "https://localhost:8080/",
          "height": 391
        },
        "id": "EpPsgpHkcVnO",
        "outputId": "27488bec-c688-4fff-dba1-5bb45126615b"
      },
      "execution_count": 10,
      "outputs": [
        {
          "output_type": "display_data",
          "data": {
            "text/plain": [
              "<Figure size 600x400 with 1 Axes>"
            ],
            "image/png": "[encoded data removed]"
          },
          "metadata": {}
        }
      ]
    },
    {
      "cell_type": "code",
      "source": [
        "# Aykırı değerleri baskılama yöntemi ile güncelleyelim\n",
        "median_X = np.median(X)\n",
        "X_clipped = X.copy()  # Orijinal veri setini kopyalayalım\n",
        "X_clipped[outliers_dbscan] = median_X  # Aykırı değerleri median ile değiştirelim\n",
        "X_clipped"
      ],
      "metadata": {
        "colab": {
          "base_uri": "https://localhost:8080/"
        },
        "id": "pcX5GlaqcXNW",
        "outputId": "f2054fed-9f5e-4ea4-947f-cff9e775386e"
      },
      "execution_count": 11,
      "outputs": [
        {
          "output_type": "execute_result",
          "data": {
            "text/plain": [
              "array([[ 1.76405235],\n",
              "       [ 0.40015721],\n",
              "       [ 0.97873798],\n",
              "       [ 2.2408932 ],\n",
              "       [ 1.86755799],\n",
              "       [-0.97727788],\n",
              "       [ 0.95008842],\n",
              "       [-0.15135721],\n",
              "       [-0.10321885],\n",
              "       [ 0.4105985 ],\n",
              "       [ 0.14404357],\n",
              "       [ 1.45427351],\n",
              "       [ 0.76103773],\n",
              "       [ 0.12167502],\n",
              "       [ 0.44386323],\n",
              "       [ 0.33367433],\n",
              "       [ 1.49407907],\n",
              "       [-0.20515826],\n",
              "       [ 0.3130677 ],\n",
              "       [-0.85409574],\n",
              "       [ 0.09409612],\n",
              "       [ 0.6536186 ],\n",
              "       [ 0.8644362 ],\n",
              "       [-0.74216502],\n",
              "       [ 2.26975462],\n",
              "       [-1.45436567],\n",
              "       [ 0.04575852],\n",
              "       [-0.18718385],\n",
              "       [ 1.53277921],\n",
              "       [ 1.46935877],\n",
              "       [ 0.15494743],\n",
              "       [ 0.37816252],\n",
              "       [-0.88778575],\n",
              "       [-1.98079647],\n",
              "       [-0.34791215],\n",
              "       [ 0.15634897],\n",
              "       [ 1.23029068],\n",
              "       [ 1.20237985],\n",
              "       [-0.38732682],\n",
              "       [-0.30230275],\n",
              "       [-1.04855297],\n",
              "       [-1.42001794],\n",
              "       [-1.70627019],\n",
              "       [ 1.9507754 ],\n",
              "       [-0.50965218],\n",
              "       [-0.4380743 ],\n",
              "       [-1.25279536],\n",
              "       [ 0.77749036],\n",
              "       [-1.61389785],\n",
              "       [-0.21274028],\n",
              "       [-0.89546656],\n",
              "       [ 0.3869025 ],\n",
              "       [-0.51080514],\n",
              "       [-1.18063218],\n",
              "       [-0.02818223],\n",
              "       [ 0.42833187],\n",
              "       [ 0.06651722],\n",
              "       [ 0.3024719 ],\n",
              "       [-0.63432209],\n",
              "       [-0.36274117],\n",
              "       [-0.67246045],\n",
              "       [-0.35955316],\n",
              "       [-0.81314628],\n",
              "       [-1.7262826 ],\n",
              "       [ 0.17742614],\n",
              "       [-0.40178094],\n",
              "       [-1.63019835],\n",
              "       [ 0.46278226],\n",
              "       [-0.90729836],\n",
              "       [ 0.0519454 ],\n",
              "       [ 0.72909056],\n",
              "       [ 0.12898291],\n",
              "       [ 1.13940068],\n",
              "       [-1.23482582],\n",
              "       [ 0.40234164],\n",
              "       [-0.68481009],\n",
              "       [-0.87079715],\n",
              "       [-0.57884966],\n",
              "       [-0.31155253],\n",
              "       [ 0.05616534],\n",
              "       [-1.16514984],\n",
              "       [ 0.90082649],\n",
              "       [ 0.46566244],\n",
              "       [-1.53624369],\n",
              "       [ 1.48825219],\n",
              "       [ 1.89588918],\n",
              "       [ 1.17877957],\n",
              "       [-0.17992484],\n",
              "       [-1.07075262],\n",
              "       [ 1.05445173],\n",
              "       [-0.40317695],\n",
              "       [ 1.22244507],\n",
              "       [ 0.20827498],\n",
              "       [ 0.97663904],\n",
              "       [ 0.3563664 ],\n",
              "       [ 0.70657317],\n",
              "       [ 0.01050002],\n",
              "       [ 1.78587049],\n",
              "       [ 0.12691209],\n",
              "       [ 0.40198936],\n",
              "       [-1.52289903],\n",
              "       [ 2.12786428],\n",
              "       [ 0.09409612],\n",
              "       [ 0.09409612],\n",
              "       [ 0.09409612],\n",
              "       [ 0.09409612],\n",
              "       [ 2.36030858],\n",
              "       [-1.42462598],\n",
              "       [ 0.09409612],\n",
              "       [ 0.09409612],\n",
              "       [ 1.39929821],\n",
              "       [ 1.81745522],\n",
              "       [ 1.48650498],\n",
              "       [ 0.09409612],\n",
              "       [ 0.09409612],\n",
              "       [-1.37163129],\n",
              "       [ 0.09409612],\n",
              "       [ 0.09409612],\n",
              "       [-1.28270149],\n",
              "       [ 0.09409612]])"
            ]
          },
          "metadata": {},
          "execution_count": 11
        }
      ]
    },
    {
      "cell_type": "code",
      "source": [
        "# İşlem yapıldıktan sonra veri setinin özelliklerini hesaplayalım\n",
        "mean_after = np.mean(X_clipped)\n",
        "std_after = np.std(X_clipped)\n",
        "median_after = np.median(X_clipped)\n",
        "variance_after = np.var(X_clipped)\n",
        "\n",
        "print(\"Ortalama:\", mean_after)\n",
        "print(\"Standart Sapma:\", std_after)\n",
        "print(\"Medyan:\", median_after)\n",
        "print(\"Varyans:\", variance_after)"
      ],
      "metadata": {
        "colab": {
          "base_uri": "https://localhost:8080/"
        },
        "id": "X1k1UlKacZes",
        "outputId": "bef6ec13-71e3-4540-e361-95574284455b"
      },
      "execution_count": 12,
      "outputs": [
        {
          "output_type": "stream",
          "name": "stdout",
          "text": [
            "Ortalama: 0.11043765237604287\n",
            "Standart Sapma: 0.9979582987924877\n",
            "Medyan: 0.09409611943799814\n",
            "Varyans: 0.995920766128796\n"
          ]
        }
      ]
    }
  ]
}